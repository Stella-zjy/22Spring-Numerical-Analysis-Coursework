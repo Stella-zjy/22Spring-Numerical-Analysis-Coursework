{
 "cells": [
  {
   "cell_type": "code",
   "execution_count": 1,
   "id": "50faadd3",
   "metadata": {},
   "outputs": [],
   "source": [
    "import numpy as np"
   ]
  },
  {
   "cell_type": "markdown",
   "id": "40928746",
   "metadata": {},
   "source": [
    "# Question 1 - Rounding Errors"
   ]
  },
  {
   "cell_type": "markdown",
   "id": "3cf04934",
   "metadata": {},
   "source": [
    "### (a)"
   ]
  },
  {
   "cell_type": "code",
   "execution_count": 2,
   "id": "cba8f985",
   "metadata": {},
   "outputs": [
    {
     "data": {
      "text/plain": [
       "1e-16"
      ]
     },
     "execution_count": 2,
     "metadata": {},
     "output_type": "execute_result"
    }
   ],
   "source": [
    "a = (1-1)+10**(-16)\n",
    "a"
   ]
  },
  {
   "cell_type": "code",
   "execution_count": 3,
   "id": "7ada8791",
   "metadata": {},
   "outputs": [
    {
     "data": {
      "text/plain": [
       "0.0"
      ]
     },
     "execution_count": 3,
     "metadata": {},
     "output_type": "execute_result"
    }
   ],
   "source": [
    "b = 1-(1+10**(-16))\n",
    "b"
   ]
  },
  {
   "cell_type": "markdown",
   "id": "eda1e53a",
   "metadata": {},
   "source": [
    "Theoretically, a = 10^(-16) and b = - 10^(-16) while in pratice b is computed to be 0.\n",
    "Since the machine epsilon is 2.22x10^(-16), the value in the parenthesis (1+10**(-16)) is then calculated as 1, hence the value of b is calculated as 1-1=0."
   ]
  },
  {
   "cell_type": "markdown",
   "id": "2ac2168b",
   "metadata": {},
   "source": [
    "### (b) "
   ]
  },
  {
   "cell_type": "code",
   "execution_count": 4,
   "id": "e85512ee",
   "metadata": {},
   "outputs": [],
   "source": [
    "def create_HibertMatrix(n):\n",
    "    H = np.zeros((n,n))\n",
    "    for i in range(n):\n",
    "        for j in range(n):\n",
    "            H[i][j]=1/(i+1+j+1-1)\n",
    "    return H\n",
    "\n",
    "def create_ColumnVector(n):\n",
    "    e = np.zeros((n,1))\n",
    "    for i in range(n):\n",
    "        e[i][0]=1\n",
    "    return e"
   ]
  },
  {
   "cell_type": "code",
   "execution_count": 5,
   "id": "37678a5e",
   "metadata": {},
   "outputs": [
    {
     "name": "stdout",
     "output_type": "stream",
     "text": [
      "When n = 5\n",
      "The value we get is 7.121339907719716e-12\n",
      "The condition number we get is 480849.1169979506\n",
      "\n",
      "When n = 10\n",
      "The value we get is 7.998270949302708e-05\n",
      "The condition number we get is 16333640022240.15\n",
      "\n",
      "When n = 20\n",
      "The value we get is 7.047686992816418\n",
      "The condition number we get is 2.3649314699981783e+18\n",
      "\n"
     ]
    }
   ],
   "source": [
    "for n in [5, 10, 20]:\n",
    "    print('When n =', n)\n",
    "    H = create_HibertMatrix(n)\n",
    "    e = create_ColumnVector(n)\n",
    "    H_inv = np.linalg.inv(H)\n",
    "    result = np.linalg.norm(H@(H_inv@e)-e)\n",
    "    condition_num = np.linalg.norm(H)*np.linalg.norm(H_inv)\n",
    "    print('The value we get is', result)\n",
    "    print('The condition number we get is', condition_num)\n",
    "    print('')"
   ]
  },
  {
   "cell_type": "markdown",
   "id": "315819a4",
   "metadata": {},
   "source": [
    "Theoretically, all the norm value should be zero, since H(H_inv@e)=(H@H_inv)e=I@e=e.\n",
    "However, in pratice, we fail to get zero as result and the error becomes even larger when n increases. This is because the matrix is poorly conditioned, as can be seen in the large value of the condition number."
   ]
  },
  {
   "cell_type": "markdown",
   "id": "7a0bfff2",
   "metadata": {},
   "source": [
    "### (c)"
   ]
  },
  {
   "cell_type": "code",
   "execution_count": 6,
   "id": "12b8b3c1",
   "metadata": {},
   "outputs": [],
   "source": [
    "import math\n",
    "\n",
    "# Numerical Calculation of the derivatives\n",
    "def f(x):\n",
    "    return math.exp(x)/((math.cos(x))**3+(math.sin(x))**3)\n",
    "\n",
    "x0 = math.pi/4\n",
    "f_x0 = f(x0)\n",
    "\n",
    "hs = [10**(-k) for k in range(1, 17)]\n",
    "\n",
    "derivative_num = []\n",
    "for h in hs:\n",
    "    df_num = (f(x0+h)-f_x0)/h\n",
    "    derivative_num.append(df_num)"
   ]
  },
  {
   "cell_type": "code",
   "execution_count": 7,
   "id": "bf50f888",
   "metadata": {},
   "outputs": [
    {
     "data": {
      "image/png": "[encoded data removed]",
      "text/plain": [
       "<Figure size 432x288 with 1 Axes>"
      ]
     },
     "metadata": {
      "needs_background": "light"
     },
     "output_type": "display_data"
    }
   ],
   "source": [
    "import matplotlib.pyplot as plt\n",
    "\n",
    "# Present the errors in the resulting approximation in a log-log plot\n",
    "exact_df = 3.101766393836051\n",
    "ys = [abs(df - exact_df) for df in derivative_num]\n",
    "\n",
    "plt.figure()\n",
    "plt.loglog(hs, ys, label = 'approximation error')\n",
    "plt.xlabel('h')\n",
    "plt.ylabel('error')\n",
    "plt.legend()\n",
    "plt.show()"
   ]
  },
  {
   "cell_type": "markdown",
   "id": "a22a6fca",
   "metadata": {},
   "source": [
    "As h becomes smaller, the approximation error first becomes smaller with 10^(-8) giving the smallest error. Then, when h becomes even smaller, the error becomes larger.\n",
    "We get the best approximation to the derivative at h = 10^(-8)"
   ]
  },
  {
   "cell_type": "markdown",
   "id": "db62f752",
   "metadata": {},
   "source": [
    "# Question 3 - Newton's Method for Systems"
   ]
  },
  {
   "cell_type": "markdown",
   "id": "14953523",
   "metadata": {},
   "source": [
    "### (d)"
   ]
  },
  {
   "cell_type": "code",
   "execution_count": 8,
   "id": "92576ce4",
   "metadata": {},
   "outputs": [],
   "source": [
    "# Implement the Newton Method in 2D\n",
    "\n",
    "def f1(x, y):\n",
    "    return x**2+4*y**2-4\n",
    "\n",
    "def f2(x, y):\n",
    "    return 2*y-math.sqrt(3)*x**2 \n",
    "\n",
    "def Jf(x, y):\n",
    "    J = np.zeros((2, 2))\n",
    "    J[0][0] = 2*x\n",
    "    J[0][1] = 8*y\n",
    "    J[1][0] = -2*3**(1/2)*x\n",
    "    J[1][1] = 2\n",
    "    return J\n",
    "\n",
    "def Newton_Iter(x, y):\n",
    "    current = np.zeros((2, 1))\n",
    "    current[0][0] = x\n",
    "    current[1][0] = y\n",
    "    temp = np.zeros((2, 1))\n",
    "    temp[0][0] = f1(x, y)\n",
    "    temp[1][0] = f2(x, y)\n",
    "    Jacobi = Jf(x, y)\n",
    "    J_inv = np.linalg.inv(Jacobi)\n",
    "    output = current - J_inv@temp\n",
    "    return output    "
   ]
  },
  {
   "cell_type": "code",
   "execution_count": 9,
   "id": "32070763",
   "metadata": {},
   "outputs": [
    {
     "data": {
      "image/png": "[encoded data removed]",
      "text/plain": [
       "<Figure size 432x288 with 1 Axes>"
      ]
     },
     "metadata": {
      "needs_background": "light"
     },
     "output_type": "display_data"
    }
   ],
   "source": [
    "# Use the Newton's Method\n",
    "\n",
    "start_value1 = (2, 3)\n",
    "start_value2 = (-1.5, 2)\n",
    "\n",
    "def NewtonFor5Iter(starting_value):\n",
    "    x0 = starting_value[0]\n",
    "    y0 = starting_value[1]\n",
    "    xlist = [x0]\n",
    "    ylist = [y0]\n",
    "    x_cur = x0\n",
    "    y_cur = y0\n",
    "    for i in range(5):\n",
    "        new = Newton_Iter(x_cur,y_cur)\n",
    "        x_cur = new[0][0]\n",
    "        y_cur = new[1][0]\n",
    "        xlist.append(x_cur)\n",
    "        ylist.append(y_cur)\n",
    "    return xlist, ylist\n",
    "    \n",
    "    \n",
    "# Plot the curves S1,S2 and the iterates\n",
    "\n",
    "# We first plot the curves of S1 and S2\n",
    "from matplotlib.patches import Ellipse\n",
    "\n",
    "a=2\n",
    "b=1\n",
    "ell = Ellipse(xy=[0, 0], width=2*a, height=2*b, fill=False,label='S1') \n",
    "fig, ax = plt.subplots()\n",
    "ax.add_patch(ell)\n",
    "ax.autoscale()\n",
    "\n",
    "S2_x = np.arange(-2, 2, 0.01)\n",
    "S2_y = (math.sqrt(3)/2)*S2_x**2\n",
    "plt.plot(S2_x, S2_y, label='S2')\n",
    "\n",
    "# Now we plot the iterates\n",
    "# When the starting value is (2, 3)\n",
    "xlist1, ylist1 = NewtonFor5Iter(start_value1)\n",
    "plt.plot(xlist1, ylist1, label='iterates with start value (2, 3)', c='r')\n",
    "plt.scatter(xlist1, ylist1, c='r')\n",
    "\n",
    "# When the starting value is (-1.5, 2)\n",
    "xlist2, ylist2 = NewtonFor5Iter(start_value2)\n",
    "plt.plot(xlist2, ylist2, label='iterates with start value (-1.5, 2)', c='g')\n",
    "plt.scatter(xlist2, ylist2, c='g')\n",
    "\n",
    "plt.legend()\n",
    "plt.grid()\n",
    "plt.show()"
   ]
  }
 ],
 "metadata": {
  "kernelspec": {
   "display_name": "Python 3",
   "language": "python",
   "name": "python3"
  },
  "language_info": {
   "codemirror_mode": {
    "name": "ipython",
    "version": 3
   },
   "file_extension": ".py",
   "mimetype": "text/x-python",
   "name": "python",
   "nbconvert_exporter": "python",
   "pygments_lexer": "ipython3",
   "version": "3.7.6"
  }
 },
 "nbformat": 4,
 "nbformat_minor": 5
}
