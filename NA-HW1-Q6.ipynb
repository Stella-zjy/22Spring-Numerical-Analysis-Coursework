{
 "cells": [
  {
   "cell_type": "code",
   "execution_count": 1,
   "id": "a95771df",
   "metadata": {},
   "outputs": [],
   "source": [
    "import numpy as np\n",
    "import matplotlib.pyplot as plt"
   ]
  },
  {
   "cell_type": "code",
   "execution_count": 2,
   "id": "d5ad58b1",
   "metadata": {},
   "outputs": [],
   "source": [
    "# We define the root finding algorithm using Newton's Method\n",
    "    \n",
    "def newton(f, fd, x0, e, max_iter=100):\n",
    "    \"\"\"\n",
    "    f: the function we are finding root for, i.e., we are looking for roots of f(x)=0\n",
    "    fd: the derivative of f, given f a differentiable function\n",
    "    x0: initial point for the iteration\n",
    "    e: error, i.e., we are finding root satisfying |x-x0|<= e\n",
    "    max_iter: maximum number of iteration allowed\n",
    "    \"\"\"\n",
    "    x_history = [x0]\n",
    "    for iteration in range(max_iter):\n",
    "        x = x_history[-1]\n",
    "        if abs(f(x)) > e:\n",
    "            x_new = x - f(x)/fd(x)\n",
    "            x_history.append(x_new)\n",
    "        elif iteration == max_iter-1:\n",
    "            print('Exceed maximum iteration, we failed to find a solution.')\n",
    "            return None\n",
    "        else:\n",
    "            #print('We find the root x =', x, 'after', iteration+1, 'iteration(s).')\n",
    "            return x, iteration\n",
    "            \n"
   ]
  },
  {
   "cell_type": "markdown",
   "id": "d1079da3",
   "metadata": {},
   "source": [
    "### Question 6"
   ]
  },
  {
   "cell_type": "code",
   "execution_count": 3,
   "id": "3f31f2d3",
   "metadata": {},
   "outputs": [
    {
     "name": "stdout",
     "output_type": "stream",
     "text": [
      "We find the root x = 2.245322245899708 after 5 iteration(s).\n"
     ]
    }
   ],
   "source": [
    "# We plug in the function by hand\n",
    "\n",
    "f = lambda x: 4.81*x**2-10.8*x\n",
    "fd = lambda x: 4.81*2*x-10.8\n",
    "\n",
    "# We use the Newton's method to find the root, we set x0 to be relatively big to avoid the trivial solution x=0\n",
    "root, iteration = newton(f, fd, 3, 1e-6)\n",
    "print('We find the root x =', root, 'after', iteration+1, 'iteration(s).')"
   ]
  },
  {
   "cell_type": "code",
   "execution_count": 4,
   "id": "f6ab409c",
   "metadata": {
    "scrolled": true
   },
   "outputs": [
    {
     "name": "stdout",
     "output_type": "stream",
     "text": [
      "The intersection point we find is ( 2.245322245899708 , 1.3264033262300876 ).\n"
     ]
    },
    {
     "data": {
      "image/png": "[encoded data removed]",
      "text/plain": [
       "<Figure size 432x288 with 1 Axes>"
      ]
     },
     "metadata": {
      "needs_background": "light"
     },
     "output_type": "display_data"
    }
   ],
   "source": [
    "# Visulization\n",
    "from matplotlib.patches import Ellipse\n",
    "\n",
    "# Plot the ellipse\n",
    "a = 3\n",
    "b = 2\n",
    "ell = Ellipse(xy=[0, 0], width=2*a, height=2*b, fill=False)\n",
    "fig, ax = plt.subplots()\n",
    "ax.add_patch(ell)\n",
    "ax.set_aspect('equal')\n",
    "ax.autoscale()\n",
    "\n",
    "# Plot the ray\n",
    "# (x0, y0) is the starting point of the ray and (u0, v0) is the direction of the ray\n",
    "x0 = 0\n",
    "y0 = 2\n",
    "u0 = 1\n",
    "v0 = -0.3\n",
    "\n",
    "t = np.linspace(0, 4, 200)\n",
    "xs = x0 + u0*t\n",
    "ys = y0 + v0*t\n",
    "plt.plot(xs, ys)\n",
    "\n",
    "y = lambda x: ((x-x0)/u0)*v0+y0\n",
    "y_root = y(root)\n",
    "plt.scatter(root, y_root)\n",
    "print('The intersection point we find is (', root, ',', y_root, ').')\n",
    "\n",
    "plt.title('Raytracing')\n",
    "plt.grid()\n",
    "plt.show()"
   ]
  },
  {
   "cell_type": "markdown",
   "id": "4cdd6855",
   "metadata": {},
   "source": [
    "### Question7"
   ]
  },
  {
   "cell_type": "code",
   "execution_count": 5,
   "id": "22370d35",
   "metadata": {},
   "outputs": [],
   "source": [
    "from sympy import *\n",
    "x = Symbol('x')\n",
    "\n",
    "def f(a, b, x0, y0, u0, v0):\n",
    "    y = ((x-x0)/u0)*v0+y0\n",
    "    return ((x)/a)**2+((y)/b)**2-1\n",
    "\n",
    "def fd(f):\n",
    "    return f.diff(x)\n",
    "\n",
    "def compute_unit_norm(a, b, x, y):\n",
    "    n = [(b/a)*x,(a/b)*y]\n",
    "    norm = (n[0]**2+n[1]**2)**(1/2)\n",
    "    n[0] = n[0]/norm\n",
    "    n[1] = n[1]/norm\n",
    "    return n\n",
    "\n",
    "def compute_unit_ray(u, v):\n",
    "    norm = (u**2+v**2)**(1/2)\n",
    "    return [u/norm, v/norm]\n",
    "\n",
    "def update_ray_vector(w, n):\n",
    "    dot_product = w[0]*n[0]+w[1]*n[1]\n",
    "    v1 = w[0]-2*dot_product*n[0]\n",
    "    v2 = w[1]-2*dot_product*n[1]\n",
    "    return [v1, v2]\n",
    "\n",
    "def main():\n",
    "    x0, y0 = 0, 2\n",
    "    u0, v0 = 1, -0.3\n",
    "    \n",
    "    x_history = [x0]\n",
    "    y_history = [y0]\n",
    "    u = u0\n",
    "    v = v0\n",
    "    \n",
    "    for i in range(50):\n",
    "        x_cur = x_history[-1]\n",
    "        y_cur = y_history[-1]\n",
    "        \n",
    "        fn = f(3, 2, x_cur, y_cur, u, v)\n",
    "        fprime = fd(fn)\n",
    "        fn = lambdify(x, fn)\n",
    "        fprime = lambdify(x, fprime)\n",
    "        \n",
    "        if u > 0:\n",
    "            x_st = 4\n",
    "        else:\n",
    "            x_st = -4\n",
    "        \n",
    "        root,i = newton(fn, fprime, x_st, 1e-10)\n",
    "        \n",
    "        y_root = ((root-x_cur)/u)*v+y_cur\n",
    "        \n",
    "        x_history.append(root)\n",
    "        y_history.append(y_root)\n",
    "        \n",
    "        n = compute_unit_norm(3, 2, root, y_root)\n",
    "        w = compute_unit_ray(u, v)\n",
    "        \n",
    "        updated_ray = update_ray_vector(w, n)\n",
    "        u = updated_ray[0]\n",
    "        v = updated_ray[1]\n",
    "        \n",
    "    return x_history, y_history\n",
    "\n",
    "x_history, y_history = main()"
   ]
  },
  {
   "cell_type": "code",
   "execution_count": 6,
   "id": "b87c292b",
   "metadata": {},
   "outputs": [
    {
     "data": {
      "image/png": "[encoded data removed]",
      "text/plain": [
       "<Figure size 432x288 with 1 Axes>"
      ]
     },
     "metadata": {
      "needs_background": "light"
     },
     "output_type": "display_data"
    }
   ],
   "source": [
    "# Visualization\n",
    "\n",
    "from matplotlib.patches import Ellipse\n",
    "\n",
    "# Plot the ellipse\n",
    "a = 3\n",
    "b = 2\n",
    "ell = Ellipse(xy=[0, 0], width=2*a, height=2*b, fill=False)\n",
    "fig, ax = plt.subplots()\n",
    "ax.add_patch(ell)\n",
    "ax.set_aspect('equal')\n",
    "ax.autoscale()\n",
    "\n",
    "# Plot the rays by connecting each point calculated\n",
    "plt.plot(x_history, y_history, c='r')\n",
    "\n",
    "plt.title('caustic')\n",
    "plt.grid()\n",
    "plt.show()"
   ]
  },
  {
   "cell_type": "code",
   "execution_count": null,
   "id": "053e4d22",
   "metadata": {},
   "outputs": [],
   "source": []
  }
 ],
 "metadata": {
  "kernelspec": {
   "display_name": "Python 3",
   "language": "python",
   "name": "python3"
  },
  "language_info": {
   "codemirror_mode": {
    "name": "ipython",
    "version": 3
   },
   "file_extension": ".py",
   "mimetype": "text/x-python",
   "name": "python",
   "nbconvert_exporter": "python",
   "pygments_lexer": "ipython3",
   "version": "3.7.6"
  }
 },
 "nbformat": 4,
 "nbformat_minor": 5
}
