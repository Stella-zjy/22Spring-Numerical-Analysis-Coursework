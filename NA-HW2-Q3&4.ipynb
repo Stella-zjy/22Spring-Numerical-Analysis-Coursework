{
 "cells": [
  {
   "cell_type": "code",
   "execution_count": 1,
   "id": "c3d4fa65",
   "metadata": {},
   "outputs": [],
   "source": [
    "import numpy as np"
   ]
  },
  {
   "cell_type": "markdown",
   "id": "bc3a17ee",
   "metadata": {},
   "source": [
    "# Question 3 Cholesky Factorization"
   ]
  },
  {
   "cell_type": "code",
   "execution_count": 2,
   "id": "7c4cfc86",
   "metadata": {},
   "outputs": [],
   "source": [
    "def CholeskyFactorization (A):\n",
    "    \n",
    "    # Input validation check\n",
    "    if A.shape[0] != A.shape[1] or not np.allclose(A, A.T):\n",
    "        raise Exception('Please enter a valid input: a symmetric matrix.')\n",
    "    \n",
    "    # Initialization\n",
    "    R = np.zeros(A.shape)\n",
    "    n = A.shape[0]\n",
    "    \n",
    "    \n",
    "    for j in range(n):\n",
    "        # The diagonal entries\n",
    "        x = A[j][j]\n",
    "        for k in range(j):\n",
    "            x -= R[j][k]**2\n",
    "        if x >= 0:\n",
    "            R[j][j] = x**(1/2)\n",
    "        else:\n",
    "            raise Exception('Error')\n",
    "                   \n",
    "        # Compute R[i][j] when i > j\n",
    "        for i in range(j+1, n):\n",
    "            y = A[i][j]\n",
    "            for k in range(j-1):\n",
    "                y -= R[i][k]*R[j][k]\n",
    "            R[i][j] = y/R[j][j]\n",
    "    \n",
    "    return R"
   ]
  },
  {
   "cell_type": "code",
   "execution_count": 3,
   "id": "4be36797",
   "metadata": {},
   "outputs": [
    {
     "name": "stdout",
     "output_type": "stream",
     "text": [
      "The Cholesky factorization we get is\n",
      " [[1.41421356 0.         0.         0.        ]\n",
      " [0.70710678 1.87082869 0.         0.        ]\n",
      " [0.35355339 0.53452248 1.89454103 0.        ]\n",
      " [0.1767767  0.26726124 0.49484281 1.28547735]]\n"
     ]
    }
   ],
   "source": [
    "A = np.array([[2, 1, 1/2, 1/4],\n",
    "             [1, 4, 1, 1/2],\n",
    "             [1/2, 1, 4, 1],\n",
    "             [1/4, 1/2, 1, 2]])\n",
    "\n",
    "R = CholeskyFactorization(A)\n",
    "\n",
    "print('The Cholesky factorization we get is\\n', R)"
   ]
  },
  {
   "cell_type": "markdown",
   "id": "c59461e0",
   "metadata": {},
   "source": [
    "# Question 4 Backward Substitution"
   ]
  },
  {
   "cell_type": "code",
   "execution_count": 5,
   "id": "cf40a11f",
   "metadata": {},
   "outputs": [],
   "source": [
    "def backward(A, b):\n",
    "    \n",
    "    # Input Validation Check\n",
    "    if A.shape[0] != A.shape[1]:\n",
    "        raise Exception('Please enter a valid square matrix.')\n",
    "    \n",
    "    n = A.shape[0]\n",
    "    \n",
    "    for i in range(n):\n",
    "        for j in range(i):\n",
    "            if A[i][j] != 0:\n",
    "                raise Exception('Please enter an upper triangular matrix.')\n",
    "    \n",
    "    if b.shape[0] != n:\n",
    "        raise Exception('The matrix size and the vector size are NOT compatible.')\n",
    "        \n",
    "    # Output Initialization\n",
    "    x = np.zeros(b.shape)\n",
    "    \n",
    "    # Backward Substitution Computation\n",
    "    for i in range(n-1, -1, -1):\n",
    "        x[i] = b[i]\n",
    "        for j in range(i+1, n):\n",
    "            x[i] -= A[i][j]*x[j]\n",
    "        x[i] /= A[i][i]\n",
    "    \n",
    "    return x         "
   ]
  },
  {
   "cell_type": "code",
   "execution_count": 6,
   "id": "782c8b27",
   "metadata": {},
   "outputs": [
    {
     "name": "stdout",
     "output_type": "stream",
     "text": [
      "The solution to Ux=b is x = [ 3. -1.  0.  2.]\n"
     ]
    }
   ],
   "source": [
    "U = np.array([[1, 2, 6, -1],\n",
    "             [0, 3, 1, 0],\n",
    "             [0, 0, 4, -1],\n",
    "             [0, 0, 0, 2]])\n",
    "\n",
    "b = np.array([-1, -3, -2, 4])\n",
    "\n",
    "x = backward(U, b)\n",
    "print('The solution to Ux=b is x =',x)"
   ]
  }
 ],
 "metadata": {
  "kernelspec": {
   "display_name": "Python 3",
   "language": "python",
   "name": "python3"
  },
  "language_info": {
   "codemirror_mode": {
    "name": "ipython",
    "version": 3
   },
   "file_extension": ".py",
   "mimetype": "text/x-python",
   "name": "python",
   "nbconvert_exporter": "python",
   "pygments_lexer": "ipython3",
   "version": "3.7.6"
  }
 },
 "nbformat": 4,
 "nbformat_minor": 5
}
