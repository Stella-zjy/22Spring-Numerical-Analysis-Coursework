{
 "cells": [
  {
   "cell_type": "code",
   "execution_count": 1,
   "id": "052567c1",
   "metadata": {},
   "outputs": [],
   "source": [
    "import numpy as np\n",
    "import matplotlib.pyplot as plt\n",
    "import pandas as pd"
   ]
  },
  {
   "cell_type": "markdown",
   "id": "2595318a",
   "metadata": {},
   "source": [
    "## Question 3: Newton-Cotes v.s. Gauss Quadrature"
   ]
  },
  {
   "cell_type": "markdown",
   "id": "1059a379",
   "metadata": {},
   "source": [
    "### (c) "
   ]
  },
  {
   "cell_type": "code",
   "execution_count": 2,
   "id": "c7778c0d",
   "metadata": {},
   "outputs": [],
   "source": [
    "def function(k):\n",
    "    f = lambda x: x**k\n",
    "    return f\n",
    "\n",
    "def Simpson(f, a, b):\n",
    "    return ((b-a)/6)*(f(a)+4*f((a+b)/2)+f(b))\n",
    "\n",
    "def Gauss(f):\n",
    "    x0 = (5-15**(1/2))/10\n",
    "    x1 = 1/2\n",
    "    x2 = (5+15**(1/2))/10\n",
    "    return (5/18)*f(x0)+(4/9)*f(x1)+(5/18)*f(x2)"
   ]
  },
  {
   "cell_type": "code",
   "execution_count": 3,
   "id": "49b1ec8c",
   "metadata": {},
   "outputs": [
    {
     "data": {
      "image/png": "[encoded data removed]",
      "text/plain": [
       "<Figure size 432x288 with 1 Axes>"
      ]
     },
     "metadata": {
      "needs_background": "light"
     },
     "output_type": "display_data"
    }
   ],
   "source": [
    "error_S = []\n",
    "error_G = []\n",
    "for k in range(8):\n",
    "    I = 1/(k+1)\n",
    "    f = function(k)\n",
    "    error_S.append(abs(I - Simpson(f, 0, 1)))\n",
    "    error_G.append(abs(I - Gauss(f)))\n",
    "    \n",
    "ks = [i for i in range(8)]\n",
    "plt.figure()\n",
    "plt.plot(ks, error_S, label = 'Simpson\\'s Rule')\n",
    "plt.plot(ks, error_G, label = 'Gauss Quadrature')\n",
    "plt.title('Newton-Cotes VS Gauss Quadrature')\n",
    "plt.xlabel('k')\n",
    "plt.ylabel('error')\n",
    "plt.legend()\n",
    "plt.show()"
   ]
  },
  {
   "cell_type": "markdown",
   "id": "5d94cec3",
   "metadata": {},
   "source": [
    "### (d)"
   ]
  },
  {
   "cell_type": "markdown",
   "id": "0f689137",
   "metadata": {},
   "source": [
    "The error of Simpson's rule blows up when k increases. \n",
    "When n = 2, Gauss quadrature is exact up to degree 2n+1=5 and Newton-Cotes is only exact for polynomial of degree n = 2."
   ]
  },
  {
   "cell_type": "markdown",
   "id": "fafa9edc",
   "metadata": {},
   "source": [
    "## Question 4: Orthogonal Polynomials on [ 0, ∞）"
   ]
  },
  {
   "cell_type": "markdown",
   "id": "9d2e714e",
   "metadata": {},
   "source": [
    "### (c) "
   ]
  },
  {
   "cell_type": "code",
   "execution_count": 4,
   "id": "8719fadc",
   "metadata": {},
   "outputs": [
    {
     "data": {
      "text/html": [
       "<div>\n",
       "<style scoped>\n",
       "    .dataframe tbody tr th:only-of-type {\n",
       "        vertical-align: middle;\n",
       "    }\n",
       "\n",
       "    .dataframe tbody tr th {\n",
       "        vertical-align: top;\n",
       "    }\n",
       "\n",
       "    .dataframe thead th {\n",
       "        text-align: right;\n",
       "    }\n",
       "</style>\n",
       "<table border=\"1\" class=\"dataframe\">\n",
       "  <thead>\n",
       "    <tr style=\"text-align: right;\">\n",
       "      <th></th>\n",
       "      <th>n</th>\n",
       "      <th>Error for the first interval</th>\n",
       "      <th>Error for the second interval</th>\n",
       "    </tr>\n",
       "  </thead>\n",
       "  <tbody>\n",
       "    <tr>\n",
       "      <th>0</th>\n",
       "      <td>2</td>\n",
       "      <td>0.020036</td>\n",
       "      <td>0.201759</td>\n",
       "    </tr>\n",
       "    <tr>\n",
       "      <th>1</th>\n",
       "      <td>3</td>\n",
       "      <td>0.002697</td>\n",
       "      <td>0.034677</td>\n",
       "    </tr>\n",
       "    <tr>\n",
       "      <th>2</th>\n",
       "      <td>4</td>\n",
       "      <td>0.000344</td>\n",
       "      <td>0.038548</td>\n",
       "    </tr>\n",
       "  </tbody>\n",
       "</table>\n",
       "</div>"
      ],
      "text/plain": [
       "   n  Error for the first interval  Error for the second interval\n",
       "0  2                      0.020036                       0.201759\n",
       "1  3                      0.002697                       0.034677\n",
       "2  4                      0.000344                       0.038548"
      ]
     },
     "execution_count": 4,
     "metadata": {},
     "output_type": "execute_result"
    }
   ],
   "source": [
    "f1 = lambda x: np.exp(-x)\n",
    "f2 = lambda x: np.exp(-x**2+x)\n",
    "I1 = 1/2\n",
    "I2 = np.pi**(1/2)/2\n",
    "\n",
    "def Quadrature(f, n):\n",
    "    if n == 2:\n",
    "        X = [0.585786, 3.41421]\n",
    "        W = [0.853553, 0.146447]\n",
    "    elif n == 3:\n",
    "        X = [0.415775, 2.29428, 6.28995]\n",
    "        W = [0.711093, 0.278518, 0.0103893]\n",
    "    elif n == 4:\n",
    "        X = [0.322548, 1.74576, 4.53662, 9.39507]\n",
    "        W = [0.603154, 0.357419, 0.0388879, 0.000539295]\n",
    "    result = 0\n",
    "    for i in range(len(X)):\n",
    "        result += f(X[i])*W[i]\n",
    "    return result\n",
    "\n",
    "N = [2, 3, 4]\n",
    "error_f1 = [abs(I1-Quadrature(f1, n)) for n in N]\n",
    "error_f2 = [abs(I2-Quadrature(f2, n)) for n in N]\n",
    "data = {'n': N, 'Error for the first interval': error_f1, 'Error for the second interval': error_f2}\n",
    "pd.DataFrame(data)"
   ]
  }
 ],
 "metadata": {
  "kernelspec": {
   "display_name": "Python 3",
   "language": "python",
   "name": "python3"
  },
  "language_info": {
   "codemirror_mode": {
    "name": "ipython",
    "version": 3
   },
   "file_extension": ".py",
   "mimetype": "text/x-python",
   "name": "python",
   "nbconvert_exporter": "python",
   "pygments_lexer": "ipython3",
   "version": "3.7.6"
  }
 },
 "nbformat": 4,
 "nbformat_minor": 5
}
